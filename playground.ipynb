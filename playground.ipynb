{
 "cells": [
  {
   "cell_type": "code",
   "execution_count": 36,
   "metadata": {},
   "outputs": [],
   "source": [
    "import pandas as pd"
   ]
  },
  {
   "cell_type": "code",
   "execution_count": 37,
   "metadata": {},
   "outputs": [],
   "source": [
    "### choose a dataset\n",
    "### options are\n",
    "### \"./datasets/year/YearPredictionMSD_whole.csv\", \"./datasets/year/YearPredictionMSD_train.csv\" \"./datasets/year/YearPredictionMSD_test.csv\"\n",
    "### \"./datasets/cov/covtype.csv\", \"./datasets/cov/covtype_scale.csv\", \"./datasets/cov/covtype_scale01.csv\"\n",
    "### \"./datasets/ijcnn1/ijcnn1.csv\", \"./datasets/ijcnn1/ijcnn1_train.csv\", \"./datasets/ijcnn1/ijcnn1_test.csv\", \"./datasets/ijcnn1/ijcnn1_val.csv\"\n",
    "\n",
    "dataset_path = \"./datasets/year/YearPredictionMSD_whole.csv\""
   ]
  },
  {
   "cell_type": "code",
   "execution_count": 38,
   "metadata": {},
   "outputs": [
    {
     "name": "stdout",
     "output_type": "stream",
     "text": [
      "(49990, 23)\n",
      "(49990, 22) (49990, 1)\n"
     ]
    }
   ],
   "source": [
    "data = pd.read_csv(dataset_path)\n",
    "print(data.shape)\n",
    "data = data.to_numpy()\n",
    "dataset = data[:,1:]\n",
    "labels = data[:,:1]\n",
    "\n",
    "print(dataset.shape, labels.shape)"
   ]
  },
  {
   "cell_type": "code",
   "execution_count": 39,
   "metadata": {},
   "outputs": [
    {
     "name": "stdout",
     "output_type": "stream",
     "text": [
      "[-1.]\n"
     ]
    }
   ],
   "source": [
    "print(labels[0])"
   ]
  }
 ],
 "metadata": {
  "kernelspec": {
   "display_name": "envoptml",
   "language": "python",
   "name": "python3"
  },
  "language_info": {
   "codemirror_mode": {
    "name": "ipython",
    "version": 3
   },
   "file_extension": ".py",
   "mimetype": "text/x-python",
   "name": "python",
   "nbconvert_exporter": "python",
   "pygments_lexer": "ipython3",
   "version": "3.10.9"
  },
  "orig_nbformat": 4
 },
 "nbformat": 4,
 "nbformat_minor": 2
}
